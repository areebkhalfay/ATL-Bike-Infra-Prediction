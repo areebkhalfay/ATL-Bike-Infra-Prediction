{
 "cells": [
  {
   "cell_type": "code",
   "execution_count": 1,
   "id": "1ab3b34f",
   "metadata": {},
   "outputs": [],
   "source": [
    "import numpy as np\n",
    "import pandas as pd\n",
    "import matplotlib.pyplot as plt"
   ]
  },
  {
   "cell_type": "code",
   "execution_count": 9,
   "id": "44f04b3b",
   "metadata": {},
   "outputs": [],
   "source": [
    "from tqdm import tqdm"
   ]
  },
  {
   "cell_type": "code",
   "execution_count": 10,
   "id": "de418a60",
   "metadata": {},
   "outputs": [],
   "source": [
    "from scipy.stats import norm"
   ]
  },
  {
   "cell_type": "code",
   "execution_count": 2,
   "id": "52af44e1",
   "metadata": {},
   "outputs": [],
   "source": [
    "df = pd.read_csv('nyc_data_numeric.csv')"
   ]
  },
  {
   "cell_type": "code",
   "execution_count": null,
   "id": "ef79e991",
   "metadata": {},
   "outputs": [],
   "source": [
    "##########\n",
    "#### Add y column here ####\n",
    "##########"
   ]
  },
  {
   "cell_type": "code",
   "execution_count": 3,
   "id": "15b2fd76",
   "metadata": {},
   "outputs": [
    {
     "data": {
      "text/plain": [
       "Index(['Unnamed: 0', 'Geography', 'Geography_name', 'total_population',\n",
       "       'population_density', 'male_percent', 'percent_inhouseholds',\n",
       "       'percent_marriedhouseholds', 'percent_cohabitingcouple',\n",
       "       'percent_solomale', 'percent_solofemale',\n",
       "       'percent_occupiedhousingunits', 'percent_owneroccupied',\n",
       "       'percent_renteroccupied', 'median_age', 'percent_under5',\n",
       "       'percent_5to9', 'percent_10to14', 'percent_15to19', 'percent_20to24',\n",
       "       'percent_25to29', 'percent_30to34', 'percent_35to39', 'percent_40to44',\n",
       "       'percent_45to49', 'percent_50to54', 'percent_55to59', 'percent_60to64',\n",
       "       'percent_65to69', 'percent_70to74', 'percent_75to79', 'percent_80to84',\n",
       "       'percent_over85', 'male_median_age', 'male_percent_under5',\n",
       "       'male_percent_5to9', 'male_percent_10to14', 'male_percent_15to19',\n",
       "       'male_percent_20to24', 'male_percent_25to29', 'male_percent_30to34',\n",
       "       'male_percent_35to39', 'male_percent_40to44', 'male_percent_45to49',\n",
       "       'male_percent_50to54', 'male_percent_55to59', 'male_percent_60to64',\n",
       "       'male_percent_65to69', 'male_percent_70to74', 'male_percent_75to79',\n",
       "       'male_percent_80to84', 'male_percent_over85', 'Female_median_age',\n",
       "       'female_percent_under5', 'female_percent_5to9', 'female_percent_10to14',\n",
       "       'female_percent_15to19', 'female_percent_20to24',\n",
       "       'female_percent_25to29', 'female_percent_30to34',\n",
       "       'female_percent_35to39', 'female_percent_40to44',\n",
       "       'female_percent_45to49', 'female_percent_50to54',\n",
       "       'female_percent_55to59', 'female_percent_60to64',\n",
       "       'female_percent_65to69', 'female_percent_70to74',\n",
       "       'female_percent_75to79', 'female_percent_80to84',\n",
       "       'female_percent_over85', 'median_household_income',\n",
       "       'percent_income_under10k', 'percent_income_10to15k',\n",
       "       'percent_income_15to25k', 'percent_income_25to35k',\n",
       "       'percent_income_35to50k', 'percent_income_50to75k',\n",
       "       'percent_income_75to100k', 'percent_income_100to150k',\n",
       "       'percent_income_150to200k', 'percent_income_over200k',\n",
       "       'percent_novehicles', 'percent_1vehicle_perperson',\n",
       "       'percent_lessthan1vehicle_perperson', 'under25y_percent_highschool',\n",
       "       'under25y_percent_somecollege', 'under25y_percent_bachelors',\n",
       "       'over25y_percent_highschool', 'over25y_percent_somecollege',\n",
       "       'over25y_percent_bachelors', 'over25y_percent_graduatedegree'],\n",
       "      dtype='object')"
      ]
     },
     "execution_count": 3,
     "metadata": {},
     "output_type": "execute_result"
    }
   ],
   "source": [
    "df.columns"
   ]
  },
  {
   "cell_type": "code",
   "execution_count": 4,
   "id": "b2f2f636",
   "metadata": {},
   "outputs": [
    {
     "data": {
      "text/plain": [
       "Index(['Unnamed: 0', 'total_population', 'population_density', 'male_percent',\n",
       "       'percent_inhouseholds', 'percent_marriedhouseholds',\n",
       "       'percent_cohabitingcouple', 'percent_solomale', 'percent_solofemale',\n",
       "       'percent_occupiedhousingunits', 'percent_owneroccupied',\n",
       "       'percent_renteroccupied', 'median_age', 'percent_under5',\n",
       "       'percent_5to9', 'percent_10to14', 'percent_15to19', 'percent_20to24',\n",
       "       'percent_25to29', 'percent_30to34', 'percent_35to39', 'percent_40to44',\n",
       "       'percent_45to49', 'percent_50to54', 'percent_55to59', 'percent_60to64',\n",
       "       'percent_65to69', 'percent_70to74', 'percent_75to79', 'percent_80to84',\n",
       "       'percent_over85', 'male_median_age', 'male_percent_under5',\n",
       "       'male_percent_5to9', 'male_percent_10to14', 'male_percent_15to19',\n",
       "       'male_percent_20to24', 'male_percent_25to29', 'male_percent_30to34',\n",
       "       'male_percent_35to39', 'male_percent_40to44', 'male_percent_45to49',\n",
       "       'male_percent_50to54', 'male_percent_55to59', 'male_percent_60to64',\n",
       "       'male_percent_65to69', 'male_percent_70to74', 'male_percent_75to79',\n",
       "       'male_percent_80to84', 'male_percent_over85', 'Female_median_age',\n",
       "       'female_percent_under5', 'female_percent_5to9', 'female_percent_10to14',\n",
       "       'female_percent_15to19', 'female_percent_20to24',\n",
       "       'female_percent_25to29', 'female_percent_30to34',\n",
       "       'female_percent_35to39', 'female_percent_40to44',\n",
       "       'female_percent_45to49', 'female_percent_50to54',\n",
       "       'female_percent_55to59', 'female_percent_60to64',\n",
       "       'female_percent_65to69', 'female_percent_70to74',\n",
       "       'female_percent_75to79', 'female_percent_80to84',\n",
       "       'female_percent_over85', 'median_household_income',\n",
       "       'percent_income_under10k', 'percent_income_10to15k',\n",
       "       'percent_income_15to25k', 'percent_income_25to35k',\n",
       "       'percent_income_35to50k', 'percent_income_50to75k',\n",
       "       'percent_income_75to100k', 'percent_income_100to150k',\n",
       "       'percent_income_150to200k', 'percent_income_over200k',\n",
       "       'percent_novehicles', 'percent_1vehicle_perperson',\n",
       "       'percent_lessthan1vehicle_perperson', 'under25y_percent_highschool',\n",
       "       'under25y_percent_somecollege', 'under25y_percent_bachelors',\n",
       "       'over25y_percent_highschool', 'over25y_percent_somecollege',\n",
       "       'over25y_percent_bachelors', 'over25y_percent_graduatedegree'],\n",
       "      dtype='object')"
      ]
     },
     "execution_count": 4,
     "metadata": {},
     "output_type": "execute_result"
    }
   ],
   "source": [
    "df_numeric = df.select_dtypes(include=[np.number])\n",
    "df_numeric.columns"
   ]
  },
  {
   "cell_type": "code",
   "execution_count": 6,
   "id": "bc3671e1",
   "metadata": {},
   "outputs": [],
   "source": [
    "features = df_numeric.copy().drop(columns=['Unnamed: 0'])\n",
    "# features = df_numeric.copy().drop(columns=['y', 'Unnamed: 0'])\n",
    "# target = df_numeric['y']"
   ]
  },
  {
   "cell_type": "code",
   "execution_count": null,
   "id": "6066b7d0",
   "metadata": {},
   "outputs": [],
   "source": [
    "def calc_zscore_helper(ds, dropoutliers):\n",
    "    percrank = np.ceil(ds.rank(ascending=False)/(ds.count()) * 100)\n",
    "    zscore = (norm.ppf(1- percrank/100 + dropoutliers).round(4))\n",
    "\n",
    "    return zscore"
   ]
  },
  {
   "cell_type": "code",
   "execution_count": null,
   "id": "13ae9bae",
   "metadata": {},
   "outputs": [],
   "source": [
    "# Inverse norm y or not?\n",
    "# if inverse, how to decide the scale? especially on ATL"
   ]
  },
  {
   "cell_type": "code",
   "execution_count": null,
   "id": "44874d6c",
   "metadata": {},
   "outputs": [],
   "source": [
    "features.transform(lambda x: calc_zscore_helper(x, 0.005), axis=0)"
   ]
  },
  {
   "cell_type": "code",
   "execution_count": null,
   "id": "5e266182",
   "metadata": {},
   "outputs": [],
   "source": [
    "correlation_matrix = np.corrcoef(features, rowvar=False)"
   ]
  },
  {
   "cell_type": "code",
   "execution_count": null,
   "id": "f9724087",
   "metadata": {},
   "outputs": [],
   "source": [
    "plt.figure(figsize=(8, 6))\n",
    "plt.imshow(correlation_matrix, cmap='coolwarm', vmin=-1, vmax=1)\n",
    "plt.colorbar(label='Correlation')\n",
    "plt.title('Feature Correlation Heatmap')\n",
    "plt.tight_layout()\n",
    "plt.show()"
   ]
  }
 ],
 "metadata": {
  "kernelspec": {
   "display_name": "ml_hw3",
   "language": "python",
   "name": "python3"
  },
  "language_info": {
   "codemirror_mode": {
    "name": "ipython",
    "version": 3
   },
   "file_extension": ".py",
   "mimetype": "text/x-python",
   "name": "python",
   "nbconvert_exporter": "python",
   "pygments_lexer": "ipython3",
   "version": "3.11.11"
  }
 },
 "nbformat": 4,
 "nbformat_minor": 5
}
