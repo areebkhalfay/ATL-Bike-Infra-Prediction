{
 "cells": [
  {
   "cell_type": "code",
   "execution_count": 35,
   "id": "df783041-5f18-4339-bcb5-86597e1b1c8a",
   "metadata": {},
   "outputs": [],
   "source": [
    "import pandas as pd\n",
    "import numpy as np\n",
    "import geopandas as gpd\n",
    "from shapely.geometry import box\n",
    "from sklearn.preprocessing import StandardScaler\n",
    "from sklearn.model_selection import train_test_split\n",
    "from sklearn.svm import SVR\n",
    "from sklearn.metrics import mean_absolute_error, mean_squared_error\n",
    "import matplotlib.pyplot as plt\n",
    "import seaborn as sns\n",
    "from datetime import timedelta\n",
    "from scipy.spatial import distance"
   ]
  },
  {
   "cell_type": "code",
   "execution_count": 37,
   "id": "5d4b0420-93ac-4ff3-a4e3-a95717ea218c",
   "metadata": {},
   "outputs": [],
   "source": [
    "# 1. Load data\n",
    "weather_df = pd.read_csv(r'D:\\SVM\\Edit 4 SVM\\NYC_Weather_2019.csv')\n",
    "grid_df = pd.read_csv(r'D:\\SVM\\Edit 4 SVM\\nyc_data_cleaned_normalized [Grid ID + Ride Count].csv')\n",
    "daily_counts = pd.read_csv(r'D:\\SVM\\Edit 4 SVM\\daily_counts.csv')"
   ]
  },
  {
   "cell_type": "code",
   "execution_count": 41,
   "id": "982ac369-8aa7-49c0-a708-f8cd9c136eca",
   "metadata": {},
   "outputs": [],
   "source": [
    "# 2. Clean weather data\n",
    "for col in ['tmpf', 'relh', 'sped', 'p01i', 'vsby']:\n",
    "    weather_df[col] = pd.to_numeric(weather_df[col], errors='coerce')\n",
    "weather_df['valid'] = pd.to_datetime(weather_df['valid'], errors='coerce')\n",
    "weather_df.dropna(subset=['lat', 'lon', 'tmpf', 'relh', 'sped', 'p01i', 'vsby', 'valid'], inplace=True)\n",
    "weather_df['date'] = weather_df['valid'].dt.date"
   ]
  },
  {
   "cell_type": "code",
   "execution_count": 43,
   "id": "f5026f81-2ed1-4bd3-a5e7-a3e0d3248737",
   "metadata": {},
   "outputs": [],
   "source": [
    "# 3. Identify weather stations\n",
    "stations = weather_df.groupby(['lat', 'lon']).size().reset_index()[['lat', 'lon']].to_dict('records')"
   ]
  },
  {
   "cell_type": "code",
   "execution_count": 45,
   "id": "52a18268-4122-4ec7-9fc1-975b1ac7ffc6",
   "metadata": {},
   "outputs": [],
   "source": [
    "# 4. Grid setup\n",
    "for col in ['Min Lat', 'Max Lat', 'Min Long', 'Max Long']:\n",
    "    grid_df[col] = pd.to_numeric(grid_df[col], errors='coerce')\n",
    "grid_df.dropna(subset=['Min Lat', 'Max Lat', 'Min Long', 'Max Long'], inplace=True)\n",
    "grid_df['geometry'] = grid_df.apply(lambda row: box(row['Min Long'], row['Min Lat'], row['Max Long'], row['Max Lat']), axis=1)\n",
    "grid_df['center_lat'] = (grid_df['Min Lat'] + grid_df['Max Lat']) / 2\n",
    "grid_df['center_lon'] = (grid_df['Min Long'] + grid_df['Max Long']) / 2"
   ]
  },
  {
   "cell_type": "code",
   "execution_count": 47,
   "id": "595176c4-e938-4651-84de-8b539035e27a",
   "metadata": {},
   "outputs": [],
   "source": [
    "# 5. Assign closest station to each grid\n",
    "\n",
    "def find_closest_station(lat, lon):\n",
    "    dists = [distance.euclidean((lat, lon), (s['lat'], s['lon'])) for s in stations]\n",
    "    return np.argmin(dists)\n",
    "\n",
    "grid_df['station_idx'] = grid_df.apply(lambda row: find_closest_station(row['center_lat'], row['center_lon']), axis=1)\n",
    "grid_df['station_lat'] = grid_df['station_idx'].apply(lambda i: stations[i]['lat'])\n",
    "grid_df['station_lon'] = grid_df['station_idx'].apply(lambda i: stations[i]['lon'])"
   ]
  },
  {
   "cell_type": "code",
   "execution_count": 49,
   "id": "2b2541e8-6c66-48dd-aa75-778ef0f9ed2d",
   "metadata": {},
   "outputs": [],
   "source": [
    "# 6. Sample weather for each grid\n",
    "weather_profiles = []\n",
    "for idx, row in grid_df.iterrows():\n",
    "    lat, lon = row['station_lat'], row['station_lon']\n",
    "    station_weather = weather_df[(weather_df['lat'] == lat) & (weather_df['lon'] == lon)]\n",
    "    sample = station_weather.sample(n=1).iloc[0]\n",
    "    profile = {\n",
    "        'Grid ID': row['Grid ID'],\n",
    "        'date': sample['date'],\n",
    "        'tmpf': sample['tmpf'],\n",
    "        'relh': sample['relh'],\n",
    "        'sped': sample['sped'],\n",
    "        'p01i': sample['p01i'],\n",
    "        'vsby': sample['vsby']\n",
    "    }\n",
    "    weather_profiles.append(profile)\n",
    "\n",
    "weather_grid_df = pd.DataFrame(weather_profiles)"
   ]
  },
  {
   "cell_type": "code",
   "execution_count": 51,
   "id": "a21dec88-1a21-4a38-922f-22d6ae30902f",
   "metadata": {},
   "outputs": [],
   "source": [
    "# 7. Save weather map\n",
    "weather_grid_df.to_csv(r'D:\\SVM\\Edit 4 SVM\\weather_map on_Grid.csv', index=False)"
   ]
  },
  {
   "cell_type": "code",
   "execution_count": 53,
   "id": "d59340c8-f7e6-45cb-bee5-f1eb52fb82d9",
   "metadata": {},
   "outputs": [],
   "source": [
    "# 8. Build weather profile features\n",
    "def classify_weather(row):\n",
    "    return 'Good' if (60 <= row['tmpf'] <= 85 and 30 <= row['relh'] <= 60 and row['sped'] <= 15 and row['p01i'] == 0 and row['vsby'] >= 5) else 'Bad'\n",
    "\n",
    "weather_grid_df['Weather Condition'] = weather_grid_df.apply(classify_weather, axis=1)"
   ]
  },
  {
   "cell_type": "code",
   "execution_count": 57,
   "id": "a789457e-e6ea-4927-a092-2f782b44e45c",
   "metadata": {},
   "outputs": [],
   "source": [
    "# 9. Rename daily_counts to calendar dates\n",
    "day_cols = [c for c in daily_counts.columns if c.startswith('Day_')]\n",
    "dates = pd.date_range(start='2019-01-01', periods=len(day_cols)).strftime('%b%d.%Y')\n",
    "mapping = dict(zip(day_cols, dates))\n",
    "daily_counts.rename(columns=mapping, inplace=True)\n",
    "daily_counts.to_csv(r'D:\\SVM\\Edit 4 SVM\\daily_counts_date series.csv', index=False)"
   ]
  },
  {
   "cell_type": "code",
   "execution_count": 59,
   "id": "665d9eac-f450-4800-a502-d16cf75a6fd7",
   "metadata": {},
   "outputs": [],
   "source": [
    "# 10. Melt daily_counts to long format\n",
    "daily_long = daily_counts.melt(id_vars=['Grid ID'], var_name='date', value_name='Ride Count')\n",
    "daily_long['date'] = pd.to_datetime(daily_long['date'], format='%b%d.%Y').dt.date"
   ]
  },
  {
   "cell_type": "code",
   "execution_count": 61,
   "id": "5be7d3db-0ee8-42cc-88a5-67c343c21a1c",
   "metadata": {},
   "outputs": [],
   "source": [
    "# 11. Merge weather and ride data\n",
    "merged_df = pd.merge(daily_long, weather_grid_df, on=['Grid ID'], how='left')\n",
    "merged_df.to_csv(r'D:\\SVM\\Edit 4 SVM\\Weather_Grid_Daily-Ride_date series.csv', index=False)"
   ]
  },
  {
   "cell_type": "code",
   "execution_count": 63,
   "id": "b24dbd65-e1c6-410e-b9ec-af721c8a9c2d",
   "metadata": {},
   "outputs": [
    {
     "data": {
      "image/png": "[encoded data removed]",
      "text/plain": [
       "<Figure size 600x400 with 1 Axes>"
      ]
     },
     "metadata": {},
     "output_type": "display_data"
    }
   ],
   "source": [
    "# 12. Visualize ride volume by weather condition\n",
    "plt.figure(figsize=(6,4))\n",
    "sns.boxplot(data=merged_df, x='Weather Condition', y='Ride Count')\n",
    "plt.title('Ride Volume by Weather Condition')\n",
    "plt.savefig(r'D:\\SVM\\Edit 4 SVM\\ride_volume_by_weather.png')\n",
    "plt.tight_layout()\n",
    "plt.show()"
   ]
  },
  {
   "cell_type": "code",
   "execution_count": null,
   "id": "bc2a67d2-53a6-4f53-a85e-aaf784c5c8da",
   "metadata": {},
   "outputs": [],
   "source": [
    "# 13. Train SVM model\n"
   ]
  },
  {
   "cell_type": "code",
   "execution_count": null,
   "id": "a62c7c13-3ee7-48ef-a7ce-44fb58e65734",
   "metadata": {},
   "outputs": [],
   "source": []
  },
  {
   "cell_type": "code",
   "execution_count": null,
   "id": "0a13c305-e482-4fbe-a04b-a043ca87f4ae",
   "metadata": {},
   "outputs": [],
   "source": []
  },
  {
   "cell_type": "code",
   "execution_count": null,
   "id": "17143d76-1e86-4c66-9baa-95c7be606b15",
   "metadata": {},
   "outputs": [],
   "source": []
  },
  {
   "cell_type": "code",
   "execution_count": null,
   "id": "36447eda-37ba-4b73-bf51-bb7e93221697",
   "metadata": {},
   "outputs": [],
   "source": []
  },
  {
   "cell_type": "code",
   "execution_count": null,
   "id": "62ffa9fc-1de0-470b-89ae-3b8bca7d3a06",
   "metadata": {},
   "outputs": [],
   "source": []
  },
  {
   "cell_type": "code",
   "execution_count": null,
   "id": "32a900f5-5576-4b23-a0e9-78ed6036d947",
   "metadata": {},
   "outputs": [],
   "source": []
  }
 ],
 "metadata": {
  "kernelspec": {
   "display_name": "Python [conda env:base] *",
   "language": "python",
   "name": "conda-base-py"
  },
  "language_info": {
   "codemirror_mode": {
    "name": "ipython",
    "version": 3
   },
   "file_extension": ".py",
   "mimetype": "text/x-python",
   "name": "python",
   "nbconvert_exporter": "python",
   "pygments_lexer": "ipython3",
   "version": "3.12.7"
  }
 },
 "nbformat": 4,
 "nbformat_minor": 5
}
