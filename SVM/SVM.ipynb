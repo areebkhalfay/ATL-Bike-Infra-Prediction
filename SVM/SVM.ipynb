{
 "cells": [
  {
   "cell_type": "code",
   "execution_count": 1,
   "metadata": {
    "id": "RrtYK2W-kflQ"
   },
   "outputs": [],
   "source": [
    "import pandas as pd\n",
    "import numpy as np\n",
    "from shapely.geometry import Point, box\n",
    "import geopandas as gpd\n",
    "from scipy.spatial import cKDTree\n",
    "\n",
    "\n",
    "# 1. Load CSV files\n",
    "weather_df = pd.read_csv(r'D:\\SVM\\Edit 3 SVM\\NYC_Weather_2019.csv')\n",
    "grid_df = pd.read_csv(r'D:\\SVM\\Edit 3 SVM\\nyc_data_cleaned_normalized [Grid ID + Ride Count].csv')\n",
    "\n",
    "# 2. Convert necessary weather columns to numeric\n",
    "for col in ['lat', 'lon', 'tmpf', 'relh', 'sped', 'p01i', 'vsby']:\n",
    "    weather_df[col] = pd.to_numeric(weather_df[col], errors='coerce')\n",
    "\n",
    "# Fix longitude to be negative if needed\n",
    "weather_df['lon'] = -weather_df['lon'].abs()\n",
    "\n",
    "# 3. Handle missing values in weather data\n",
    "weather_df = weather_df.replace([np.inf, -np.inf], np.nan)\n",
    "weather_df.dropna(subset=['lat', 'lon', 'tmpf', 'relh', 'sped', 'p01i', 'vsby'], inplace=True)\n",
    "\n",
    "# 4. Convert weather data to GeoDataFrame\n",
    "weather_gdf = gpd.GeoDataFrame(\n",
    "    weather_df,\n",
    "    geometry=gpd.points_from_xy(weather_df['lon'], weather_df['lat']),\n",
    "    crs=\"EPSG:4326\"\n",
    ")"
   ]
  },
  {
   "cell_type": "code",
   "execution_count": 3,
   "metadata": {
    "colab": {
     "base_uri": "https://localhost:8080/"
    },
    "id": "w6oY93gHklTF",
    "outputId": "411084eb-a35d-46a2-e1af-5886903bb3b9"
   },
   "outputs": [
    {
     "name": "stdout",
     "output_type": "stream",
     "text": [
      " Was was successfully merged\n",
      " Dataframe's shape:  (17912, 23)\n"
     ]
    }
   ],
   "source": [
    "# 5. Handle missing values in grid data\n",
    "grid_df[['Min Lat', 'Max Lat', 'Min Long', 'Max Long']] = grid_df[['Min Lat', 'Max Lat', 'Min Long', 'Max Long']].astype(float)\n",
    "grid_df.dropna(subset=['Min Lat', 'Max Lat', 'Min Long', 'Max Long'], inplace=True)\n",
    "\n",
    "# 6. Create geometry for each grid polygon\n",
    "grid_df['geometry'] = grid_df.apply(\n",
    "    lambda row: box(row['Min Long'], row['Min Lat'], row['Max Long'], row['Max Lat']),\n",
    "    axis=1\n",
    ")\n",
    "grid_gdf = gpd.GeoDataFrame(grid_df, geometry='geometry', crs=\"EPSG:4326\")\n",
    "\n",
    "# 7. Calculate grid center coordinates\n",
    "grid_gdf['center_lat'] = (grid_gdf['Min Lat'] + grid_gdf['Max Lat']) / 2\n",
    "grid_gdf['center_lon'] = (grid_gdf['Min Long'] + grid_gdf['Max Long']) / 2\n",
    "\n",
    "grid_coords = np.vstack((grid_gdf['center_lat'], grid_gdf['center_lon'])).T\n",
    "weather_coords = np.vstack((weather_gdf['lat'], weather_gdf['lon'])).T\n",
    "\n",
    "# 8. Use KDTree for fast matching between weather points and grid centers\n",
    "tree = cKDTree(grid_coords)\n",
    "distances, indices = tree.query(weather_coords, k=1)\n",
    "\n",
    "# 9. Assign closest grid to each weather observation\n",
    "weather_gdf['Grid ID'] = grid_gdf.iloc[indices]['Grid ID'].values\n",
    "\n",
    "# 10. Merge weather data with grid data\n",
    "merged_df = pd.merge(weather_gdf, grid_gdf, on='Grid ID', how='left')\n",
    "\n",
    "# 11. Check the shape of the merged data\n",
    "print(\" Was was successfully merged\")\n",
    "print(\" Dataframe's shape: \", merged_df.shape)\n"
   ]
  },
  {
   "cell_type": "code",
   "execution_count": 5,
   "metadata": {
    "id": "dp0uKm8AniYJ"
   },
   "outputs": [],
   "source": [
    "# 12. Classify weather as Good, Bad, or Moderate\n",
    "def classify_weather(Tmpf, Relh, WindSpeed, p01i, Vsby):\n",
    "    if (60 <= Tmpf <= 85 and\n",
    "        30 <= Relh <= 60 and\n",
    "        WindSpeed <= 15 and\n",
    "        p01i == 0 and\n",
    "        Vsby >= 5):\n",
    "        return \"Good Weather\"\n",
    "    elif (Tmpf < 40 or Tmpf > 95 or\n",
    "          Relh > 80 or Relh < 20 or\n",
    "          WindSpeed > 25 or\n",
    "          p01i > 0.05 or\n",
    "          Vsby < 2):\n",
    "        return \"Bad Weather\"\n",
    "    else:\n",
    "        return \"Moderate Weather\"\n",
    "\n",
    "# Apply the weather classification\n",
    "merged_df['Weather Condition'] = merged_df.apply(\n",
    "    lambda row: classify_weather(row['tmpf'], row['relh'], row['sped'], row['p01i'], row['vsby']),\n",
    "    axis=1\n",
    ")"
   ]
  },
  {
   "cell_type": "code",
   "execution_count": 7,
   "metadata": {
    "colab": {
     "base_uri": "https://localhost:8080/"
    },
    "id": "Tkrip3oplGHL",
    "outputId": "8ec5f781-7379-473b-b559-f2af66439bec"
   },
   "outputs": [
    {
     "name": "stdout",
     "output_type": "stream",
     "text": [
      "new dataset [merged_weather_data.csv] was stored\n"
     ]
    }
   ],
   "source": [
    "# 13. Save the final merged and classified data to CSV\n",
    "merged_df.to_csv(r'D:\\SVM\\Edit 3 SVM\\merged_weather_data.csv', index=False)\n",
    "\n",
    "print(\"new dataset [merged_weather_data.csv] was stored\")"
   ]
  },
  {
   "cell_type": "code",
   "execution_count": 9,
   "metadata": {
    "colab": {
     "base_uri": "https://localhost:8080/"
    },
    "id": "Qs61pYM5lclV",
    "outputId": "17300069-1835-4562-d726-c84fe38c4dc1"
   },
   "outputs": [
    {
     "name": "stdout",
     "output_type": "stream",
     "text": [
      " Model was trained\n",
      "Mean Squared Error (MSE): 0.0016820637082209007\n"
     ]
    }
   ],
   "source": [
    "import pandas as pd\n",
    "import numpy as np\n",
    "from sklearn.model_selection import train_test_split\n",
    "from sklearn.preprocessing import StandardScaler\n",
    "from sklearn.svm import SVR\n",
    "from sklearn.metrics import mean_squared_error, r2_score\n",
    "import matplotlib.pyplot as plt\n",
    "\n",
    "# 1. Load the merged data (from previous step)\n",
    "merged_df = pd.read_csv(r'D:\\SVM\\Edit 3 SVM\\merged_weather_data.csv')\n",
    "\n",
    "# 2. Preprocess the data\n",
    "\n",
    "weather_condition_mapping = {'Good Weather': 1, 'Moderate Weather': 2, 'Bad Weather': 3}\n",
    "merged_df['Weather Condition'] = merged_df['Weather Condition'].map(weather_condition_mapping)\n",
    "\n",
    "merged_df.dropna(subset=['Ride Count'], inplace=True)\n",
    "\n",
    "X = merged_df[['tmpf', 'relh', 'sped', 'p01i', 'vsby', 'Weather Condition', 'Ride Count']]  # Features\n",
    "y = merged_df['Ride Count']  # Target variable\n",
    "\n",
    "# 3. Normalize the data\n",
    "scaler = StandardScaler()\n",
    "X_scaled = scaler.fit_transform(X)\n",
    "\n",
    "# 4. Train/Test Split\n",
    "X_train, X_test, y_train, y_test = train_test_split(X_scaled, y, test_size=0.2, random_state=42)\n",
    "\n",
    "# 5. Train the Support Vector Machine (SVM) Model\n",
    "svm_model = SVR(kernel='rbf')  # Radial Basis Function (RBF) Kernel\n",
    "svm_model.fit(X_train, y_train)\n",
    "\n",
    "# 6. Make Predictions\n",
    "y_pred = svm_model.predict(X_test)\n",
    "\n",
    "# 7. Evaluate the Model\n",
    "mse = mean_squared_error(y_test, y_pred)  # Mean Squared Error\n",
    "r2 = r2_score(y_test, y_pred)  # R-squared\n",
    "\n",
    "print(\" Model was trained\")\n",
    "print(f\"Mean Squared Error (MSE): {mse}\")\n"
   ]
  },
  {
   "cell_type": "code",
   "execution_count": 11,
   "metadata": {},
   "outputs": [],
   "source": [
    "from sklearn.svm import LinearSVR  # Import LinearSVR instead of SVR"
   ]
  },
  {
   "cell_type": "code",
   "execution_count": 13,
   "metadata": {},
   "outputs": [
    {
     "name": "stdout",
     "output_type": "stream",
     "text": [
      "Accuracy of Weather Classification Model: 0.8671504325983812\n"
     ]
    }
   ],
   "source": [
    "# 9. Classify Good Weather vs Bad Weather using SVM\n",
    "\n",
    "merged_df['Weather Good/Bad'] = merged_df['Weather Condition'].apply(lambda x: 1 if x == 1 else 0)\n",
    "\n",
    "# Select features for classification\n",
    "X_classification = merged_df[['tmpf', 'relh', 'sped', 'p01i', 'vsby', 'Ride Count']]\n",
    "y_classification = merged_df['Weather Good/Bad']  # Target: Good (1) vs Bad (0)\n",
    "\n",
    "# Normalize the data for classification\n",
    "X_classification_scaled = scaler.fit_transform(X_classification)\n",
    "\n",
    "# Train/Test Split for classification\n",
    "X_train_class, X_test_class, y_train_class, y_test_class = train_test_split(\n",
    "    X_classification_scaled, y_classification, test_size=0.2, random_state=42)\n",
    "\n",
    "# Train the faster Linear SVM model for classification\n",
    "svm_classification_model = LinearSVR(max_iter=10000, dual=\"auto\")\n",
    "svm_classification_model.fit(X_train_class, y_train_class)\n",
    "\n",
    "# Make predictions for classification\n",
    "y_pred_class = svm_classification_model.predict(X_test_class)\n",
    "\n",
    "# Evaluate classification model performance\n",
    "classification_accuracy = np.mean((y_pred_class > 0.5) == y_test_class)\n",
    "\n",
    "print(f\"Accuracy of Weather Classification Model: {classification_accuracy}\")"
   ]
  },
  {
   "cell_type": "code",
   "execution_count": 15,
   "metadata": {},
   "outputs": [
    {
     "name": "stdout",
     "output_type": "stream",
     "text": [
      "Accuracy of Weather Classification Model: 0.9692994697181133\n"
     ]
    }
   ],
   "source": [
    "# 9. Classify Good Weather vs Bad Weather using SVM\n",
    "\n",
    "merged_df['Weather Good/Bad'] = merged_df['Weather Condition'].apply(lambda x: 1 if x == 1 else 0)\n",
    "\n",
    "# Select features for classification\n",
    "X_classification = merged_df[['tmpf', 'relh', 'sped', 'p01i', 'vsby', 'Ride Count']]\n",
    "y_classification = merged_df['Weather Good/Bad']  # Target: Good (1) vs Bad (0)\n",
    "\n",
    "# Normalize the data for classification\n",
    "X_classification_scaled = scaler.fit_transform(X_classification)\n",
    "\n",
    "# Train/Test Split for classification\n",
    "X_train_class, X_test_class, y_train_class, y_test_class = train_test_split(X_classification_scaled, y_classification, test_size=0.2, random_state=42)\n",
    "\n",
    "# Train the SVM model for classification\n",
    "svm_classification_model = SVR(kernel='rbf')\n",
    "svm_classification_model.fit(X_train_class, y_train_class)\n",
    "\n",
    "# Make predictions for classification\n",
    "y_pred_class = svm_classification_model.predict(X_test_class)\n",
    "\n",
    "# Evaluate classification model performance\n",
    "classification_accuracy = np.mean((y_pred_class > 0.5) == y_test_class)\n",
    "\n",
    "\n",
    "print(f\"Accuracy of Weather Classification Model: {classification_accuracy}\")\n"
   ]
  },
  {
   "cell_type": "code",
   "execution_count": 17,
   "metadata": {
    "colab": {
     "base_uri": "https://localhost:8080/"
    },
    "id": "kLyLaQWijJAn",
    "outputId": "0d465198-3ef0-417a-e28a-b1b2aaf36e1b"
   },
   "outputs": [
    {
     "name": "stdout",
     "output_type": "stream",
     "text": [
      "Training Accuracy of Weather Classification Model: 0.9733407774443437\n"
     ]
    }
   ],
   "source": [
    "# Predict on training data\n",
    "y_train_pred_class = svm_classification_model.predict(X_train_class)\n",
    "\n",
    "# Evaluate training accuracy\n",
    "train_classification_accuracy = np.mean((y_train_pred_class > 0.5) == y_train_class)\n",
    "\n",
    "print(f\"Training Accuracy of Weather Classification Model: {train_classification_accuracy}\")\n"
   ]
  },
  {
   "cell_type": "code",
   "execution_count": 19,
   "metadata": {
    "colab": {
     "base_uri": "https://localhost:8080/",
     "height": 803
    },
    "id": "c_9dSDpPkFI8",
    "outputId": "68f20a53-a4c1-4eff-f516-8ea5ad212eba"
   },
   "outputs": [
    {
     "data": {
      "image/png": "[encoded data removed]",
      "text/plain": [
       "<Figure size 600x400 with 2 Axes>"
      ]
     },
     "metadata": {},
     "output_type": "display_data"
    },
    {
     "data": {
      "image/png": "[encoded data removed]",
      "text/plain": [
       "<Figure size 600x400 with 1 Axes>"
      ]
     },
     "metadata": {},
     "output_type": "display_data"
    }
   ],
   "source": [
    "import matplotlib.pyplot as plt\n",
    "import seaborn as sns\n",
    "from sklearn.metrics import confusion_matrix, roc_curve, auc\n",
    "\n",
    "# Class prediction using a 0.5 threshold\n",
    "y_test_pred_labels = (y_pred_class > 0.5).astype(int)\n",
    "y_train_pred_labels = (y_train_pred_class > 0.5).astype(int)\n",
    "\n",
    "# Confusion Matrix\n",
    "cm = confusion_matrix(y_test_class, y_test_pred_labels)\n",
    "\n",
    "plt.figure(figsize=(6, 4))\n",
    "sns.heatmap(cm, annot=True, fmt=\"d\", cmap=\"Blues\", xticklabels=[\"Bad\", \"Good\"], yticklabels=[\"Bad\", \"Good\"])\n",
    "plt.xlabel(\"Predicted\")\n",
    "plt.ylabel(\"Actual\")\n",
    "plt.title(\"Confusion Matrix - Test Data\")\n",
    "plt.show()\n",
    "\n",
    "# ROC Curve\n",
    "fpr, tpr, _ = roc_curve(y_test_class, y_pred_class)\n",
    "roc_auc = auc(fpr, tpr)\n",
    "\n",
    "plt.figure(figsize=(6, 4))\n",
    "plt.plot(fpr, tpr, color='darkorange', lw=2, label='ROC curve (AUC = %0.2f)' % roc_auc)\n",
    "plt.plot([0, 1], [0, 1], color='navy', lw=1, linestyle='--')\n",
    "plt.xlabel('False Positive Rate')\n",
    "plt.ylabel('True Positive Rate')\n",
    "plt.title('ROC Curve - Test Data')\n",
    "plt.legend(loc=\"lower right\")\n",
    "plt.grid(True)\n",
    "plt.show()\n",
    "\n"
   ]
  },
  {
   "cell_type": "code",
   "execution_count": 21,
   "metadata": {
    "id": "w9N8MNRjB8zR"
   },
   "outputs": [],
   "source": [
    "merged_df['hour'] = pd.to_datetime(merged_df['valid']).dt.hour\n",
    "\n",
    "merged_df['grid_id'] = (\n",
    "    (merged_df['lat'] * 10).astype(int).astype(str) + \"_\" +\n",
    "    (merged_df['lon'] * 10).astype(int).astype(str)\n",
    ")\n",
    "\n",
    "from sklearn.preprocessing import LabelEncoder\n",
    "le = LabelEncoder()\n",
    "merged_df['grid_id_encoded'] = le.fit_transform(merged_df['grid_id'])\n"
   ]
  },
  {
   "cell_type": "code",
   "execution_count": 23,
   "metadata": {
    "colab": {
     "base_uri": "https://localhost:8080/"
    },
    "id": "0C7Qz15AA9Un",
    "outputId": "88032b2c-86f5-4539-9168-d9d39c884610"
   },
   "outputs": [
    {
     "name": "stdout",
     "output_type": "stream",
     "text": [
      " Hourly Ridership Prediction\n",
      "Mean Absolute Error: 0.00\n",
      "Root Mean Squared Error: 0.00\n"
     ]
    }
   ],
   "source": [
    "from sklearn.metrics import mean_absolute_error, mean_squared_error\n",
    "\n",
    "# 1. Hourly Ridership Prediction Model (Regression)\n",
    "X_ridership = merged_df[['hour', 'grid_id_encoded', 'tmpf', 'relh', 'p01i', 'vsby', 'Weather Good/Bad']]\n",
    "y_ridership = merged_df['Ride Count']\n",
    "\n",
    "# Scale features\n",
    "X_ridership_scaled = scaler.fit_transform(X_ridership)\n",
    "\n",
    "# Train/test split\n",
    "X_train_r, X_test_r, y_train_r, y_test_r = train_test_split(X_ridership_scaled, y_ridership, test_size=0.2, random_state=42)\n",
    "\n",
    "svr_model = LinearSVR(max_iter=10000, dual=\"auto\")\n",
    "svr_model.fit(X_train_r, y_train_r)\n",
    "\n",
    "# Predict\n",
    "y_pred_r = svr_model.predict(X_test_r)\n",
    "\n",
    "# Evaluation metrics\n",
    "mae = mean_absolute_error(y_test_r, y_pred_r)\n",
    "rmse = np.sqrt(mean_squared_error(y_test_r, y_pred_r))\n",
    "\n",
    "print(\" Hourly Ridership Prediction\")\n",
    "print(f\"Mean Absolute Error: {mae:.2f}\")\n",
    "print(f\"Root Mean Squared Error: {rmse:.2f}\")\n"
   ]
  },
  {
   "cell_type": "code",
   "execution_count": 25,
   "metadata": {
    "colab": {
     "base_uri": "https://localhost:8080/"
    },
    "id": "3XPvKcH7CNBZ",
    "outputId": "b4e11028-6e67-4a27-9662-6a414b806f3f"
   },
   "outputs": [
    {
     "name": "stdout",
     "output_type": "stream",
     "text": [
      "\n",
      " Ride Volume Analysis:\n",
      "Avg Rides in Good Weather: 0.14\n",
      "Avg Rides in Bad Weather: 0.14\n",
      "Ride Volume Ratio (Good / Bad): 0.99\n"
     ]
    }
   ],
   "source": [
    "# 2. Ratio of Good vs Bad Weather Ride Volume\n",
    "good_weather_rides = merged_df[merged_df['Weather Good/Bad'] == 1]['Ride Count'].mean()\n",
    "bad_weather_rides = merged_df[merged_df['Weather Good/Bad'] == 0]['Ride Count'].mean()\n",
    "ride_ratio = good_weather_rides / bad_weather_rides if bad_weather_rides != 0 else np.nan\n",
    "\n",
    "print(\"\\n Ride Volume Analysis:\")\n",
    "print(f\"Avg Rides in Good Weather: {good_weather_rides:.2f}\")\n",
    "print(f\"Avg Rides in Bad Weather: {bad_weather_rides:.2f}\")\n",
    "print(f\"Ride Volume Ratio (Good / Bad): {ride_ratio:.2f}\")\n"
   ]
  },
  {
   "cell_type": "code",
   "execution_count": 27,
   "metadata": {
    "colab": {
     "base_uri": "https://localhost:8080/",
     "height": 410
    },
    "id": "BaKWhBRyCTw_",
    "outputId": "b1a5a0af-423d-4690-96a5-0442cd426fe7"
   },
   "outputs": [
    {
     "data": {
      "image/png": "[encoded data removed]",
      "text/plain": [
       "<Figure size 600x400 with 1 Axes>"
      ]
     },
     "metadata": {},
     "output_type": "display_data"
    }
   ],
   "source": [
    "# 3. Visualization of Regression Results\n",
    "plt.figure(figsize=(6, 4))\n",
    "plt.scatter(range(len(y_test_r)), y_test_r, label='Actual', alpha=0.7)\n",
    "plt.scatter(range(len(y_test_r)), y_pred_r, label='Predicted', alpha=0.7)\n",
    "plt.title('Actual vs Predicted Ride Count')\n",
    "plt.xlabel('Sample Index')\n",
    "plt.ylabel('Ride Count')\n",
    "plt.legend()\n",
    "plt.grid(True)\n",
    "plt.show()"
   ]
  },
  {
   "cell_type": "markdown",
   "metadata": {},
   "source": [
    "# Note: \n",
    "# Performance Bottleneck: SVR(kernel='rbf')\n",
    "\n",
    "\"RBF kernel SVMs are very slow on large datasets due to their complexity \"\n",
    "    \"Time complexity: roughly O(n² ~ n³), where n is the number of samples\"\n",
    "    \"So with over 200,000 rows, it's likely to freeze, stall, or take hours\"\n",
    "\n",
    "#So first I used: svr_model = SVR(kernel='rbf')\n",
    "#Then I changed it to: \n",
    "#from sklearn.svm import LinearSVR\n",
    "#svr_model = LinearSVR(max_iter=10000, dual=\"auto\")"
   ]
  },
  {
   "cell_type": "code",
   "execution_count": null,
   "metadata": {},
   "outputs": [],
   "source": []
  }
 ],
 "metadata": {
  "accelerator": "GPU",
  "colab": {
   "gpuType": "T4",
   "provenance": []
  },
  "kernelspec": {
   "display_name": "Python [conda env:base] *",
   "language": "python",
   "name": "conda-base-py"
  },
  "language_info": {
   "codemirror_mode": {
    "name": "ipython",
    "version": 3
   },
   "file_extension": ".py",
   "mimetype": "text/x-python",
   "name": "python",
   "nbconvert_exporter": "python",
   "pygments_lexer": "ipython3",
   "version": "3.12.7"
  }
 },
 "nbformat": 4,
 "nbformat_minor": 4
}
